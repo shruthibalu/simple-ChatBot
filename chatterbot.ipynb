{
 "cells": [
  {
   "cell_type": "markdown",
   "metadata": {
    "id": "D_-HrjwHcFc0"
   },
   "source": [
    "# **Project III - ChatBot**\n",
    "\n",
    "\n",
    "\n",
    "\n",
    "\n",
    "\n"
   ]
  },
  {
   "cell_type": "code",
   "execution_count": null,
   "metadata": {
    "colab": {
     "base_uri": "https://localhost:8080/"
    },
    "id": "tKEB5lalRHCq",
    "outputId": "9e7f7a8a-a594-4ad5-ab19-3259bce427e3"
   },
   "outputs": [
    {
     "name": "stdout",
     "output_type": "stream",
     "text": [
      "Mounted at /content/gdrive\n",
      "Google Drive connected.\n"
     ]
    }
   ],
   "source": [
    "#This is how we interface with Google Drive to access files. Copy paste this as is, this is standard code.\n",
    "from google.colab import drive\n",
    "drive.mount('/content/gdrive', force_remount=True)\n",
    "print('Google Drive connected.')"
   ]
  },
  {
   "cell_type": "code",
   "execution_count": null,
   "metadata": {
    "colab": {
     "base_uri": "https://localhost:8080/"
    },
    "id": "GWDQoQhWB808",
    "outputId": "69a73a27-926e-444e-8980-81984f3d1b2b"
   },
   "outputs": [
    {
     "name": "stdout",
     "output_type": "stream",
     "text": [
      "Collecting ChatterBot\n",
      "  Downloading ChatterBot-1.0.8-py2.py3-none-any.whl (63 kB)\n",
      "\u001b[?25l\r",
      "\u001b[K     |█████▏                          | 10 kB 24.6 MB/s eta 0:00:01\r",
      "\u001b[K     |██████████▎                     | 20 kB 27.3 MB/s eta 0:00:01\r",
      "\u001b[K     |███████████████▌                | 30 kB 19.6 MB/s eta 0:00:01\r",
      "\u001b[K     |████████████████████▋           | 40 kB 16.9 MB/s eta 0:00:01\r",
      "\u001b[K     |█████████████████████████▊      | 51 kB 7.2 MB/s eta 0:00:01\r",
      "\u001b[K     |███████████████████████████████ | 61 kB 8.4 MB/s eta 0:00:01\r",
      "\u001b[K     |████████████████████████████████| 63 kB 1.6 MB/s \n",
      "\u001b[?25hRequirement already satisfied: python-dateutil<2.9,>=2.8 in /usr/local/lib/python3.7/dist-packages (from ChatterBot) (2.8.2)\n",
      "Collecting mathparse<0.2,>=0.1\n",
      "  Downloading mathparse-0.1.2-py3-none-any.whl (7.2 kB)\n",
      "Collecting sqlalchemy<1.4,>=1.3\n",
      "  Downloading SQLAlchemy-1.3.24-cp37-cp37m-manylinux2010_x86_64.whl (1.3 MB)\n",
      "\u001b[K     |████████████████████████████████| 1.3 MB 17.0 MB/s \n",
      "\u001b[?25hRequirement already satisfied: pytz in /usr/local/lib/python3.7/dist-packages (from ChatterBot) (2018.9)\n",
      "Requirement already satisfied: six>=1.5 in /usr/local/lib/python3.7/dist-packages (from python-dateutil<2.9,>=2.8->ChatterBot) (1.15.0)\n",
      "Installing collected packages: sqlalchemy, mathparse, ChatterBot\n",
      "  Attempting uninstall: sqlalchemy\n",
      "    Found existing installation: SQLAlchemy 1.4.22\n",
      "    Uninstalling SQLAlchemy-1.4.22:\n",
      "      Successfully uninstalled SQLAlchemy-1.4.22\n",
      "Successfully installed ChatterBot-1.0.8 mathparse-0.1.2 sqlalchemy-1.3.24\n",
      "Collecting chatterbot-corpus\n",
      "  Downloading chatterbot_corpus-1.2.0-py2.py3-none-any.whl (117 kB)\n",
      "\u001b[K     |████████████████████████████████| 117 kB 7.8 MB/s \n",
      "\u001b[?25hRequirement already satisfied: PyYAML<4.0,>=3.12 in /usr/local/lib/python3.7/dist-packages (from chatterbot-corpus) (3.13)\n",
      "Installing collected packages: chatterbot-corpus\n",
      "Successfully installed chatterbot-corpus-1.2.0\n"
     ]
    }
   ],
   "source": [
    "#PIP INSTALL *PACKAGE_NAME* is how you install additional libraries/modules/packages\n",
    "!pip install ChatterBot #An open source chatbot module\n",
    "!pip install chatterbot-corpus #An open source chatbot training text data module"
   ]
  },
  {
   "cell_type": "code",
   "execution_count": null,
   "metadata": {
    "id": "o9McDGP7Jlzu"
   },
   "outputs": [],
   "source": [
    "from chatterbot import ChatBot #import the module after installing (don't forget to import after a PIP INSTALL)\n",
    "\n",
    "bot = ChatBot('Buddy') #I am naming my chatbot \"Buddy\". \n",
    "\n",
    "#I am updating the parameters of this chatbot by passing new arguments to configure the storage\n",
    "bot = ChatBot(\n",
    "    'Buddy', #specify the name\n",
    "    storage_adapter='chatterbot.storage.SQLStorageAdapter', #type of storage needed, here it is SQL\n",
    "    database_uri='sqlite:///database.sqlite3' #link to the database needed, here it is in RAM\n",
    ")\n",
    "\n",
    "#I am updating the parameters of this chatbot by passing new arguments to configure the an algorithm\n",
    "bot = ChatBot(\n",
    "    'Buddy',  #specify the name\n",
    "    logic_adapters=[\n",
    "        'chatterbot.logic.BestMatch', #Find a response pair, closest to the user input from the training dataset \n",
    "        'chatterbot.logic.TimeLogicAdapter', #Check for mentions of time, or day. Like good morning, what is the time, what is today's date etc.\n",
    "        'chatterbot.logic.MathematicalEvaluation', #Check for mentions of math, like what is 2 + 2, and so on. \n",
    "        {\n",
    "            'import_path':'chatterbot.logic.BestMatch', #additional parameter for the bestmatch logic adapter\n",
    "            'default_response': 'I am sorry, I do not understand', #default response if there is no match\n",
    "            'maximum_similarity_threshold':0.90 #higher the better response you will get, but less chance of finding a good response\n",
    "        }\n",
    "         ],\n",
    ")"
   ]
  },
  {
   "cell_type": "markdown",
   "metadata": {
    "id": "8Cn-TBOigtNN"
   },
   "source": [
    "### Download the *moviequotes.txt* file from this Google Drive: [click this](https://drive.google.com/file/d/18lx5LP5unehJjK-otJa5IA_eaOR2MNBh/view?usp=sharing)"
   ]
  },
  {
   "cell_type": "code",
   "execution_count": null,
   "metadata": {
    "colab": {
     "base_uri": "https://localhost:8080/"
    },
    "id": "hX9asMaYREyi",
    "outputId": "d0fc9464-f9c0-4324-c8c4-e1cc1e19a2e9"
   },
   "outputs": [
    {
     "name": "stdout",
     "output_type": "stream",
     "text": [
      "['Frankly, my dear, I don’t give a damn.', \"I'm going to make him an offer he can't refuse\", \"You don't understand! I coulda had class. I coulda been a contender. I could've been somebody, instead of a bum, which is what I am.\", \"Toto, I've got a feeling we're not in Kansas anymore.\", \"Here's looking at you, kid.\", 'Go ahead, make my day', \"All right, Mr. DeMille, I'm ready for my closeup.\", 'May the Force be with you', \"Fasten your seatbelts. It's going to be a bumpy night.\", 'You talking to me?', \"What we've got here is failure to communicate.\", 'I love the smell of napalm in the morning', \"Love means never having to say you're sorry.\", 'The stuff that dreams are made of.', 'E.T. phone home.', 'They call me Mister Tibbs!', 'Rosebud', 'Made it, Ma! Top of the world!', \"I'm as mad as hell, and I'm not going to take this anymore!\", 'Louis, I think this is the beginning of a beautiful friendship.', 'A census taker once tried to test me. I ate his liver with some fava beans and a nice Chianti.', 'Bond. James Bond.', \"There's no place like home.\", \"I am big! It's the pictures that got small.\", 'Show me the money!', '']\n"
     ]
    }
   ],
   "source": [
    "DATA_PATH = \"/content/gdrive/MyDrive/YOUR_FOLDER_NAME/moviequotes.txt\"\n",
    "\n",
    "def loadDictionary(path_to_file): #I pass in a path to the file as input argument\n",
    "  dictionaryFile = open(path_to_file) #open is a built-in function to read a file\n",
    "  englishWords = [] #make an empty file\n",
    "  for word in dictionaryFile.read().split('\\n'): #split is used to seperate sentences on new lines\n",
    "    quote = word.split('=')[0] #split here is used to seperate words in a sentences from equal to and retrieve dialogue only\n",
    "    # titles = word.split('=')[1] #split here is used to seperate words in a sentences from equal to and retrieve movie title only\n",
    "    # year = word.split('=')[2] #split here is used to seperate words in a sentences from equal to and retrieve movie year only\n",
    "    englishWords.append(quote) #add to list\n",
    "  dictionaryFile.close() #close is another built-in function\n",
    "  return englishWords #return the list\n",
    "\n",
    "\n",
    "#testing out the dialogues\n",
    "dialogues = loadDictionary(DATA_PATH)\n",
    "print(dialogues)"
   ]
  },
  {
   "cell_type": "code",
   "execution_count": null,
   "metadata": {
    "colab": {
     "base_uri": "https://localhost:8080/"
    },
    "id": "u_A19X9iNecP",
    "outputId": "54ace638-b693-47af-b8d9-b553eb2b8d30"
   },
   "outputs": [
    {
     "name": "stdout",
     "output_type": "stream",
     "text": [
      "List Trainer: [####################] 100%\n",
      "List Trainer: [####################] 100%\n",
      "Training ai.yml: [####################] 100%\n",
      "Training botprofile.yml: [####################] 100%\n",
      "Training computers.yml: [####################] 100%\n",
      "Training conversations.yml: [####################] 100%\n",
      "Training emotion.yml: [####################] 100%\n",
      "Training food.yml: [####################] 100%\n",
      "Training gossip.yml: [####################] 100%\n",
      "Training greetings.yml: [####################] 100%\n",
      "Training health.yml: [####################] 100%\n",
      "Training history.yml: [####################] 100%\n",
      "Training humor.yml: [####################] 100%\n",
      "Training literature.yml: [####################] 100%\n",
      "Training money.yml: [####################] 100%\n",
      "Training movies.yml: [####################] 100%\n",
      "Training politics.yml: [####################] 100%\n",
      "Training psychology.yml: [####################] 100%\n",
      "Training science.yml: [####################] 100%\n",
      "Training sports.yml: [####################] 100%\n",
      "Training trivia.yml: [####################] 100%\n"
     ]
    }
   ],
   "source": [
    "from chatterbot.trainers import ListTrainer #This module allows me to train the model with data\n",
    "from chatterbot.trainers import ChatterBotCorpusTrainer #This module gives me some sample data to train with\n",
    "\n",
    "trainer = ListTrainer(bot) #Create a trainer for our custom data\n",
    "trainercorpus = ChatterBotCorpusTrainer(bot) #Creater a trainer for the module provided data\n",
    "\n",
    "trainingdata_ours = ['Hi, do you like Odysy','I freaking love it!'] #Specifying dialogue pair\n",
    "trainingdata_movie = loadDictionary(DATA_PATH) #Specifying dialogues we read from the file\n",
    "training_corpus = 'chatterbot.corpus.english' #Sample data provided by the module\n",
    "\n",
    "trainer.train(trainingdata_ours) #training on our dialogue pair\n",
    "trainer.train(trainingdata_movie) #training on the movie dialogues we read from file\n",
    "trainercorpus.train(training_corpus) #training on sample data provided by the module"
   ]
  },
  {
   "cell_type": "markdown",
   "metadata": {
    "id": "ItbunCsxQh8-"
   },
   "source": [
    "### To find out what the data provided by the module is, go here: \n",
    "https://www.kaggle.com/kausr25/chatterbotenglish?select=sports.yml"
   ]
  },
  {
   "cell_type": "code",
   "execution_count": null,
   "metadata": {
    "colab": {
     "base_uri": "https://localhost:8080/"
    },
    "id": "xBIEezOHOV1K",
    "outputId": "403618a8-245f-45e8-b561-f130eee86c73"
   },
   "outputs": [
    {
     "name": "stdout",
     "output_type": "stream",
     "text": [
      "Enter your name:Glaux\n",
      "Welcome to our Course Glaux\n",
      "Glaux:sjdbjsfg wj ww\n",
      "Bot: do you wish you could eat food?\n",
      "Glaux:sknfhwf838387434\n",
      "Bot: The current time is 07:29 AM\n",
      "Glaux:jj7272672622222222\n",
      "Bot: The current time is 07:29 AM\n",
      "Glaux:bye\n",
      "Bot:Bye\n"
     ]
    }
   ],
   "source": [
    "name = input(\"Enter your name:\") #Asking you for your name\n",
    "print(\"Welcome to our Course\", name) #Says welcome\n",
    "\n",
    "while True: #infinite loops\n",
    "  request = input(name+':') #user types their entry here\n",
    "  if request == 'Bye' or request=='bye': #if user writes bye, you exit the loop\n",
    "    print(\"Bot:Bye\") #say bye\n",
    "    break #break to exit the while\n",
    "  else: \n",
    "    response=bot.get_response(request) #pass in the user entry to the model and make it find a good response \n",
    "    print('Bot:', response) #chatbot gives its response"
   ]
  }
 ],
 "metadata": {
  "colab": {
   "collapsed_sections": [],
   "name": "Project III - Chatterbot.ipynb",
   "provenance": []
  },
  "kernelspec": {
   "display_name": "Python 3 (ipykernel)",
   "language": "python",
   "name": "python3"
  },
  "language_info": {
   "codemirror_mode": {
    "name": "ipython",
    "version": 3
   },
   "file_extension": ".py",
   "mimetype": "text/x-python",
   "name": "python",
   "nbconvert_exporter": "python",
   "pygments_lexer": "ipython3",
   "version": "3.10.4"
  }
 },
 "nbformat": 4,
 "nbformat_minor": 1
}
